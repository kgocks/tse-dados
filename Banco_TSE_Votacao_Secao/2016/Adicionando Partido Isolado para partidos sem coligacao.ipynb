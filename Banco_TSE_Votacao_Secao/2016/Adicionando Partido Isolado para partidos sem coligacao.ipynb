{
 "cells": [
  {
   "cell_type": "markdown",
   "metadata": {},
   "source": [
    "```mysql\n",
    "\n",
    "select count(*) from candidato_2010_legenda where SEQUENCIA_COLIGACAO is NULL;\n",
    "\n",
    "```\n",
    "resultado: 8159\n",
    "\n",
    "```mysql\n",
    "select \n",
    "DATA_GERACAO,\n",
    "HORA_GERACAO,\n",
    "ANO_ELEICAO,\n",
    "NUM_TURNO,\n",
    "DESCRICAO_ELEICAO,\n",
    "SIGLA_UF,\n",
    "SIGLA_UE,\n",
    "DESCRICAO_UE,\n",
    "CODIGO_CARGO,\n",
    "DESCRICAO_CARGO,\n",
    "NUMERO_PARTIDO,\n",
    "SIGLA_PARTIDO,\n",
    "NOME_PARTIDO\n",
    "from candidato_2010_legenda where SEQUENCIA_COLIGACAO is NULL;\n",
    "```"
   ]
  },
  {
   "cell_type": "code",
   "execution_count": 1,
   "metadata": {
    "collapsed": false
   },
   "outputs": [],
   "source": [
    "import pandas as pd\n",
    "import csv\n",
    "\n",
    "data = pd.read_csv(\"input/partidos_isolados.csv\",delimiter=\"\\t\",error_bad_lines=False,names=[\n",
    "\"DATA_GERACAO\",\n",
    "\"HORA_GERACAO\",\n",
    "\"ANO_ELEICAO\",\n",
    "\"NUM_TURNO\",\n",
    "\"DESCRICAO_ELEICAO\",\n",
    "\"SIGLA_UF\",\n",
    "\"SIGLA_UE\",\n",
    "\"DESCRICAO_UE\",\n",
    "\"CODIGO_CARGO\",\n",
    "\"DESCRICAO_CARGO\",\n",
    "\"NUMERO_PARTIDO\",\n",
    "\"SIGLA_PARTIDO\",\n",
    "\"NOME_PARTIDO\"])\n",
    "\n",
    "data[\"TIPO_LEGENDA\"] = \"PARTIDO ISOLADO\"\n",
    "data[\"SIGLA_COLIGACAO\"] = data[\"SIGLA_PARTIDO\"]\n",
    "data[\"NOME_COLIGACAO\"] = data[\"SIGLA_PARTIDO\"]\n",
    "data[\"COMPOSICAO_COLIGACAO\"] = data[\"SIGLA_PARTIDO\"]\n",
    "data[\"SEQUENCIA_COLIGACAO\"] = 999000 + data.index\n",
    "\n",
    "\n",
    "data.reindex(columns=[\"DATA_GERACAO\",\n",
    "    \"HORA_GERACAO\",\n",
    "    \"ANO_ELEICAO\",\n",
    "    \"NUM_TURNO\",\n",
    "    \"DESCRICAO_ELEICAO\",\n",
    "    \"SIGLA_UF\",\n",
    "    \"SIGLA_UE\",\n",
    "    \"NOME_UE\",\n",
    "    \"CODIGO_CARGO\",\n",
    "    \"DESCRICAO_CARGO\",\n",
    "    \"TIPO_LEGENDA\",\n",
    "    \"NUMERO_PARTIDO\",\n",
    "    \"SIGLA_PARTIDO\",\n",
    "    \"NOME_PARTIDO\",\n",
    "    \"SIGLA_COLIGACAO\",\n",
    "    \"NOME_COLIGACAO\",\n",
    "    \"COMPOSICAO_COLIGACAO\",\n",
    "    \"SEQUENCIA_COLIGACAO\"]).to_csv('output/partidos_isolados.csv',sep=';', encoding='utf-8',index=False,header=False, quoting=csv.QUOTE_ALL)"
   ]
  },
  {
   "cell_type": "code",
   "execution_count": null,
   "metadata": {
    "collapsed": false
   },
   "outputs": [],
   "source": []
  },
  {
   "cell_type": "code",
   "execution_count": null,
   "metadata": {
    "collapsed": true
   },
   "outputs": [],
   "source": []
  }
 ],
 "metadata": {
  "kernelspec": {
   "display_name": "Python 2",
   "language": "python",
   "name": "python2"
  },
  "language_info": {
   "codemirror_mode": {
    "name": "ipython",
    "version": 2
   },
   "file_extension": ".py",
   "mimetype": "text/x-python",
   "name": "python",
   "nbconvert_exporter": "python",
   "pygments_lexer": "ipython2",
   "version": "2.7.13"
  }
 },
 "nbformat": 4,
 "nbformat_minor": 2
}
