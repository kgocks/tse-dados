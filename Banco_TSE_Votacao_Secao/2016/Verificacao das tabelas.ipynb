{
 "cells": [
  {
   "cell_type": "markdown",
   "metadata": {},
   "source": [
    "```mysql\n",
    "select count(*) from votacao_secao_2016_macro_candidato;\n",
    "```\n",
    "\n",
    "```mysql\n",
    "select count(*) from votacao_secao_2016_meso_candidato;\n",
    "```\n",
    "resultado: 544.869\n",
    "\n",
    "\n",
    "```mysql\n",
    "select count(*) from votacao_secao_2016_uf_candidato;\n",
    "```\n",
    "resultado: 444.683\n",
    "\n",
    "\n",
    "```mysql\n",
    "select count(*) from votacao_secao_2016_micro_candidato;\n",
    "```\n",
    "resultado: 544.869"
   ]
  },
  {
   "cell_type": "code",
   "execution_count": null,
   "metadata": {
    "collapsed": true
   },
   "outputs": [],
   "source": []
  }
 ],
 "metadata": {
  "kernelspec": {
   "display_name": "Python 2",
   "language": "python",
   "name": "python2"
  },
  "language_info": {
   "codemirror_mode": {
    "name": "ipython",
    "version": 2
   },
   "file_extension": ".py",
   "mimetype": "text/x-python",
   "name": "python",
   "nbconvert_exporter": "python",
   "pygments_lexer": "ipython2",
   "version": "2.7.13"
  }
 },
 "nbformat": 4,
 "nbformat_minor": 2
}
