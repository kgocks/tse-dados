{
 "cells": [
  {
   "cell_type": "code",
   "execution_count": 12,
   "metadata": {
    "collapsed": false
   },
   "outputs": [],
   "source": [
    "import pandas as pd\n",
    "\n",
    "pd.read_csv(\"Candidatos/cand_1998v2.csv\",dtype=str,index_col=0).fillna(\"#NE#\").to_csv(\"Candidatos/cand_1998v2.csv.gz\",compression=\"gzip\",sep=\";\",index=False)\n",
    "pd.read_csv(\"Candidatos/cand_2002v2.csv\",dtype=str,index_col=0).fillna(\"#NE#\").to_csv(\"Candidatos/cand_2002v2.csv.gz\",compression=\"gzip\",sep=\";\",index=False)\n",
    "pd.read_csv(\"Candidatos/cand_2004v2.csv\",dtype=str,index_col=0).fillna(\"#NE#\").to_csv(\"Candidatos/cand_2004v2.csv.gz\",compression=\"gzip\",sep=\";\",index=False)\n",
    "pd.read_csv(\"Candidatos/cand_2006v2.csv\",dtype=str,index_col=0).fillna(\"#NE#\").to_csv(\"Candidatos/cand_2006v2.csv.gz\",compression=\"gzip\",sep=\";\",index=False)\n",
    "pd.read_csv(\"Candidatos/cand_2008v2.csv\",dtype=str,index_col=0).fillna(\"#NE#\").to_csv(\"Candidatos/cand_2008v2.csv.gz\",compression=\"gzip\",sep=\";\",index=False)\n",
    "pd.read_csv(\"Candidatos/cand_2010v2.csv\",dtype=str,index_col=0).fillna(\"#NE#\").to_csv(\"Candidatos/cand_2010v2.csv.gz\",compression=\"gzip\",sep=\";\",index=False)\n",
    "pd.read_csv(\"Candidatos/cand_2012v2.csv\",dtype=str,index_col=0).fillna(\"#NE#\").to_csv(\"Candidatos/cand_2012v2.csv.gz\",compression=\"gzip\",sep=\";\",index=False)\n",
    "pd.read_csv(\"Candidatos/cand_2014v2.csv\",dtype=str,index_col=0).fillna(\"#NE#\").to_csv(\"Candidatos/cand_2014v2.csv.gz\",compression=\"gzip\",sep=\";\",index=False)\n",
    "pd.read_csv(\"Candidatos/cand_2016v2.csv\",dtype=str,index_col=0).fillna(\"#NE#\").to_csv(\"Candidatos/cand_2016v2.csv.gz\",compression=\"gzip\",sep=\";\",index=False)\n",
    "\n",
    "\n"
   ]
  },
  {
   "cell_type": "code",
   "execution_count": null,
   "metadata": {
    "collapsed": true
   },
   "outputs": [],
   "source": []
  }
 ],
 "metadata": {
  "kernelspec": {
   "display_name": "Python 2",
   "language": "python",
   "name": "python2"
  },
  "language_info": {
   "codemirror_mode": {
    "name": "ipython",
    "version": 2
   },
   "file_extension": ".py",
   "mimetype": "text/x-python",
   "name": "python",
   "nbconvert_exporter": "python",
   "pygments_lexer": "ipython2",
   "version": "2.7.13"
  }
 },
 "nbformat": 4,
 "nbformat_minor": 2
}
